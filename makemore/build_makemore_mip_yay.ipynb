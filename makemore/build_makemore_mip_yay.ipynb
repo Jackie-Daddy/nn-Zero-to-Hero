{
 "cells": [
  {
   "cell_type": "code",
   "execution_count": 1,
   "metadata": {},
   "outputs": [],
   "source": [
    "import torch\n",
    "import torch.nn.functional as F\n",
    "import matplotlib.pyplot as plt  # for making figures\n",
    "\n",
    "%matplotlib inline"
   ]
  },
  {
   "cell_type": "code",
   "execution_count": 2,
   "metadata": {},
   "outputs": [
    {
     "data": {
      "text/plain": [
       "['emma', 'olivia', 'ava', 'isabella', 'sophia', 'charlotte', 'mia', 'amelia']"
      ]
     },
     "execution_count": 2,
     "metadata": {},
     "output_type": "execute_result"
    }
   ],
   "source": [
    "# read in all the words\n",
    "words = open(\"names.txt\", \"r\").read().splitlines()\n",
    "words[:8]"
   ]
  },
  {
   "cell_type": "code",
   "execution_count": 3,
   "metadata": {},
   "outputs": [
    {
     "data": {
      "text/plain": [
       "32033"
      ]
     },
     "execution_count": 3,
     "metadata": {},
     "output_type": "execute_result"
    }
   ],
   "source": [
    "len(words)"
   ]
  },
  {
   "cell_type": "code",
   "execution_count": 4,
   "metadata": {},
   "outputs": [
    {
     "name": "stdout",
     "output_type": "stream",
     "text": [
      "{1: 'a', 2: 'b', 3: 'c', 4: 'd', 5: 'e', 6: 'f', 7: 'g', 8: 'h', 9: 'i', 10: 'j', 11: 'k', 12: 'l', 13: 'm', 14: 'n', 15: 'o', 16: 'p', 17: 'q', 18: 'r', 19: 's', 20: 't', 21: 'u', 22: 'v', 23: 'w', 24: 'x', 25: 'y', 26: 'z', 0: '.'}\n"
     ]
    }
   ],
   "source": [
    "# bulid the vocabulary of characters and mappings to/from integers\n",
    "\n",
    "chars = sorted(list(set(\"\".join(words))))\n",
    "stoi = {s: i + 1 for i, s in enumerate(chars)}\n",
    "stoi[\".\"] = 0\n",
    "itos = {i: s for s, i in stoi.items()}\n",
    "print(itos)"
   ]
  },
  {
   "cell_type": "code",
   "execution_count": 5,
   "metadata": {},
   "outputs": [
    {
     "name": "stdout",
     "output_type": "stream",
     "text": [
      "emma\n",
      "... ------> e\n",
      "..e ------> m\n",
      ".em ------> m\n",
      "emm ------> a\n",
      "mma ------> .\n",
      "olivia\n",
      "... ------> o\n",
      "..o ------> l\n",
      ".ol ------> i\n",
      "oli ------> v\n",
      "liv ------> i\n",
      "ivi ------> a\n",
      "via ------> .\n",
      "ava\n",
      "... ------> a\n",
      "..a ------> v\n",
      ".av ------> a\n",
      "ava ------> .\n",
      "isabella\n",
      "... ------> i\n",
      "..i ------> s\n",
      ".is ------> a\n",
      "isa ------> b\n",
      "sab ------> e\n",
      "abe ------> l\n",
      "bel ------> l\n",
      "ell ------> a\n",
      "lla ------> .\n",
      "sophia\n",
      "... ------> s\n",
      "..s ------> o\n",
      ".so ------> p\n",
      "sop ------> h\n",
      "oph ------> i\n",
      "phi ------> a\n",
      "hia ------> .\n"
     ]
    }
   ],
   "source": [
    "# build the dataset\n",
    "\n",
    "block_size = 3  # context length: how many charaters do we take to predict the next one?\n",
    "# X: input Y: label\n",
    "X, Y = [], []\n",
    "for w in words[:5]:\n",
    "    print(w)\n",
    "    context = [0] * block_size\n",
    "    for ch in w + \".\":\n",
    "        ix = stoi[ch]\n",
    "        X.append(context)\n",
    "        Y.append(ix)\n",
    "        print(\"\".join(itos[i] for i in context), \"------>\", itos[ix])\n",
    "        context = context[1:] + [ix]  # crop and append\n",
    "X = torch.tensor(X)\n",
    "Y = torch.tensor(Y)"
   ]
  },
  {
   "cell_type": "code",
   "execution_count": 6,
   "metadata": {},
   "outputs": [
    {
     "data": {
      "text/plain": [
       "(torch.Size([32, 3]), torch.int64, torch.Size([32]), torch.int64)"
      ]
     },
     "execution_count": 6,
     "metadata": {},
     "output_type": "execute_result"
    }
   ],
   "source": [
    "X.shape, X.dtype, Y.shape, Y.dtype"
   ]
  },
  {
   "cell_type": "code",
   "execution_count": 7,
   "metadata": {},
   "outputs": [],
   "source": [
    "# 构建查找表C,做embbding将每个字符映射到二维空间中,预测的字符只有27种可能性\n",
    "# 原理大概就是C是一个矩阵,经过运算把每个字符转换成二维张量\n",
    "C = torch.randn((27, 2))"
   ]
  },
  {
   "cell_type": "code",
   "execution_count": 8,
   "metadata": {},
   "outputs": [
    {
     "data": {
      "text/plain": [
       "tensor([[[ 1.3230, -0.2767],\n",
       "         [ 0.4499,  0.7208]],\n",
       "\n",
       "        [[ 1.5825, -0.5541],\n",
       "         [ 1.8208, -0.3932]]])"
      ]
     },
     "execution_count": 8,
     "metadata": {},
     "output_type": "execute_result"
    }
   ],
   "source": [
    "# 张量的索引形式(可使用一维整数数组/张量进行索引)\n",
    "C[[5, 6, 7]]  # C[torch.tensor([5, 6, 7])]能得到相同结果\n",
    "# 也支持C[torch.tensor([5, 6, 7, 7, 7, 7, 7, 7])]\n",
    "# 我们也可使用多维整数张量进行索引\n",
    "C[torch.tensor([[1, 2], [3, 4]])]"
   ]
  },
  {
   "cell_type": "code",
   "execution_count": 9,
   "metadata": {},
   "outputs": [
    {
     "data": {
      "text/plain": [
       "(torch.Size([27, 2]), torch.Size([32, 3]), torch.Size([32, 3, 2]))"
      ]
     },
     "execution_count": 9,
     "metadata": {},
     "output_type": "execute_result"
    }
   ],
   "source": [
    "# 思考为什么C[X].shape是这样\n",
    "C.shape, X.shape, C[X].shape"
   ]
  },
  {
   "cell_type": "code",
   "execution_count": 10,
   "metadata": {},
   "outputs": [
    {
     "data": {
      "text/plain": [
       "tensor([ 1.3230, -0.2767])"
      ]
     },
     "execution_count": 10,
     "metadata": {},
     "output_type": "execute_result"
    }
   ],
   "source": [
    "# 得到索引为13的例子中对应第2个字符的embedding\n",
    "C[X][13, 2]"
   ]
  },
  {
   "cell_type": "code",
   "execution_count": 11,
   "metadata": {},
   "outputs": [
    {
     "data": {
      "text/plain": [
       "tensor(1)"
      ]
     },
     "execution_count": 11,
     "metadata": {},
     "output_type": "execute_result"
    }
   ],
   "source": [
    "# 得到索引为13的例子中对应的第2个字符\n",
    "X[13, 2]"
   ]
  },
  {
   "cell_type": "code",
   "execution_count": 12,
   "metadata": {},
   "outputs": [
    {
     "data": {
      "text/plain": [
       "tensor([ 1.3230, -0.2767])"
      ]
     },
     "execution_count": 12,
     "metadata": {},
     "output_type": "execute_result"
    }
   ],
   "source": [
    "# 也能得到索引为13的例子中对应第2个字符的embedding\n",
    "C[1]"
   ]
  },
  {
   "cell_type": "code",
   "execution_count": 13,
   "metadata": {},
   "outputs": [
    {
     "data": {
      "text/plain": [
       "torch.Size([32, 3, 2])"
      ]
     },
     "execution_count": 13,
     "metadata": {},
     "output_type": "execute_result"
    }
   ],
   "source": [
    "# C[5]和F.one_hot(torch.tensor(5), num_classes=27).float() @ C互为等价操作\n",
    "# 不过C[5]这种直接取索引的方式是更快的\n",
    "# creating embedding table\n",
    "emb = C[X]\n",
    "emb.shape"
   ]
  },
  {
   "cell_type": "code",
   "execution_count": 14,
   "metadata": {},
   "outputs": [],
   "source": [
    "# 构建隐藏层\n",
    "# 用3个单词预测,每个单词嵌入维度是2,那么总的输入为6\n",
    "W1 = torch.randn((6, 100))\n",
    "b1 = torch.randn(100)"
   ]
  },
  {
   "cell_type": "code",
   "execution_count": 15,
   "metadata": {},
   "outputs": [
    {
     "data": {
      "text/plain": [
       "torch.Size([32, 6])"
      ]
     },
     "execution_count": 15,
     "metadata": {},
     "output_type": "execute_result"
    }
   ],
   "source": [
    "torch.cat([emb[:, 0, :], emb[:, 1, :], emb[:, 2, :]], 1).shape"
   ]
  },
  {
   "cell_type": "code",
   "execution_count": 16,
   "metadata": {},
   "outputs": [
    {
     "data": {
      "text/plain": [
       "torch.Size([32, 6])"
      ]
     },
     "execution_count": 16,
     "metadata": {},
     "output_type": "execute_result"
    }
   ],
   "source": [
    "# 这种concatenate方式的效率不是很高,会新创建一个张量(创建了新的内存),而view方法会进行原地更新\n",
    "torch.cat(torch.unbind(emb, 1), 1).shape"
   ]
  },
  {
   "cell_type": "code",
   "execution_count": 17,
   "metadata": {},
   "outputs": [],
   "source": [
    "h = torch.tanh(emb.view(-1, 6) @ W1 + b1)"
   ]
  },
  {
   "cell_type": "code",
   "execution_count": 18,
   "metadata": {},
   "outputs": [
    {
     "data": {
      "text/plain": [
       "tensor([[-9.9999e-01, -9.7743e-01, -8.6125e-01,  ...,  9.2551e-01,\n",
       "          9.8394e-01, -9.1358e-01],\n",
       "        [-9.9877e-01, -8.5105e-01, -9.3273e-01,  ...,  9.6424e-01,\n",
       "         -8.5268e-02, -9.8647e-01],\n",
       "        [-8.0745e-01, -9.9996e-01, -9.7997e-01,  ...,  4.1347e-01,\n",
       "         -9.7300e-01, -9.7895e-01],\n",
       "        ...,\n",
       "        [-9.9997e-01,  9.9979e-01, -9.9894e-01,  ...,  9.9696e-01,\n",
       "          8.6721e-01, -3.9351e-04],\n",
       "        [ 9.7802e-01, -9.8434e-01,  1.9840e-01,  ...,  6.9779e-01,\n",
       "         -9.9923e-01, -9.9948e-01],\n",
       "        [ 1.8487e-01, -8.3643e-01,  9.5944e-01,  ...,  9.5108e-01,\n",
       "          5.4847e-01,  9.9813e-01]])"
      ]
     },
     "execution_count": 18,
     "metadata": {},
     "output_type": "execute_result"
    }
   ],
   "source": [
    "h"
   ]
  },
  {
   "cell_type": "code",
   "execution_count": 19,
   "metadata": {},
   "outputs": [
    {
     "data": {
      "text/plain": [
       "torch.Size([32, 100])"
      ]
     },
     "execution_count": 19,
     "metadata": {},
     "output_type": "execute_result"
    }
   ],
   "source": [
    "h.shape"
   ]
  },
  {
   "cell_type": "code",
   "execution_count": 20,
   "metadata": {},
   "outputs": [
    {
     "data": {
      "text/plain": [
       "torch.Size([32, 100])"
      ]
     },
     "execution_count": 20,
     "metadata": {},
     "output_type": "execute_result"
    }
   ],
   "source": [
    "(emb.view(32, 6) @ W1).shape"
   ]
  },
  {
   "cell_type": "code",
   "execution_count": 21,
   "metadata": {},
   "outputs": [
    {
     "data": {
      "text/plain": [
       "torch.Size([100])"
      ]
     },
     "execution_count": 21,
     "metadata": {},
     "output_type": "execute_result"
    }
   ],
   "source": [
    "b1.shape"
   ]
  },
  {
   "cell_type": "code",
   "execution_count": 22,
   "metadata": {},
   "outputs": [],
   "source": [
    "# 广播的步骤\n",
    "# 32, 100 ---> 32, 100 ---> 32, 100\n",
    "#     100 --->  1, 100 ---> 32, 100"
   ]
  }
 ],
 "metadata": {
  "kernelspec": {
   "display_name": "nn-Zero-to-Hero",
   "language": "python",
   "name": "python3"
  },
  "language_info": {
   "codemirror_mode": {
    "name": "ipython",
    "version": 3
   },
   "file_extension": ".py",
   "mimetype": "text/x-python",
   "name": "python",
   "nbconvert_exporter": "python",
   "pygments_lexer": "ipython3",
   "version": "3.8.19"
  }
 },
 "nbformat": 4,
 "nbformat_minor": 2
}
